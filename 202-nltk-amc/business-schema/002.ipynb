{
 "cells": [
  {
   "cell_type": "code",
   "execution_count": 1,
   "metadata": {},
   "outputs": [],
   "source": [
    "# -*- coding: utf-8 -*-\n",
    "# Amitava Chakraborty, 2022\n",
    "# Extracting  Basic Relationships from Local Text\n",
    "import nltk\n",
    "nltk.data.path.append(\"../nltk-data\")"
   ]
  },
  {
   "cell_type": "markdown",
   "metadata": {},
   "source": [
    "We perform NLTK on a local text file. We will also refer to it as NLTK's corpus file. To access the text file we will use python’s built in open() function. "
   ]
  },
  {
   "cell_type": "code",
   "execution_count": 7,
   "metadata": {},
   "outputs": [],
   "source": [
    "rawtextfile = open('script v1.0.txt', 'r')\n",
    "# We have to read the file so we need to use the read() method immediately after using the open() method as shown in the code \n",
    "#rawtextfile.read()\n",
    "rawtext=rawtextfile.read()"
   ]
  },
  {
   "cell_type": "markdown",
   "metadata": {},
   "source": [
    "## Cleanup\n",
    "1. Cleanup \\n, \\t etc.\n",
    "2. Tokenization usually have issues with contractions (like can’t, won’t, etc.). To handle such issues we need word replacement. In this case, we can replace contractions with their expanded forms. We perform various kinds of word replacement using regular expressions.\n",
    "3. Make entire text lowercase"
   ]
  },
  {
   "cell_type": "code",
   "execution_count": 9,
   "metadata": {},
   "outputs": [
    {
     "name": "stdout",
     "output_type": "stream",
     "text": [
      "ba : hi, we are here to discuss the requirements around the hotel reservation.  business : welcome ajay, yes, we can start the discussion.  ba : so, what are the broad requirements ? business : we want to start modernization of our hotel reservation.            the customer should be able to use any of the following : telephone based booking, web based booking or in-person booking.      the process should be similar for all : the prospective customers need to check for a property whether any rooms are available or not      for the given request.  ba : what do you mean by \"given request\"? business : means the type of room, say for example two double bed room with pool view or a suite.  ba : okey. please go ahead. business : if the property has capability of fulfilling that request, then the customer needs to be informed about the rooms rates, other    room services,etc.     ba : if there are no rooms for the given request? business: if there are no rooms available for the given request, then the guest should be informed about other properties in the vicinity    to check for rooms there.    once the rooms rates are decided then the customer needs to provide personal details like name, age, reason of stay,etc.    once those are done , an initial amount can charged as booking amount.    after the rooms are booked the rooms must be removed from the inventory.    if the stay is leisure then ,the the booking clerk (telephonic or otherwise) may brief the guest about some activities he may prefer.  ba : but if the stay is non-leisure? business: the booking clerk should ask whether the guest needs any additional services being extented, for example use of conference room. etc  ba : you talked about room amenities? can you provide a few examples? business : sure, there are many room services. i will provide a complete list later-on. but for the time being , examples of    room amenities may be complimentary use of gym, or in-room cocktail station or free coupons to be used at local merchants.    some of these are obviously charged to the guest.   the booking clerk should also ask whether the guest needs to avail hotel pickup or drop. if the guest is using any of our travel partners   to come to our location, the pickup and drop are complimentary. and depending on the type of room booked or ticket type used at our   travel partners, we provide limo service.  ba : who are these business partners and what do they provide? business : there are many type of business partners say for example abc airways is our airlines partner. if the guest has availed first class or   business class ticket, then he is provided limo airport drop & pickup automatically.   or if the guest has booked premium suite then also he is provided free limo airport drop and pickup.   the booking clerk should also enquire about any special service request. for example : if any one in the touring party needs wheelchair, etc   ohh...i forgot to tell you the property representative should also ask about the number of people for the booking.  ba : you talked about removing the room from inventory when there is a booking made. can we talk a bit more on that? business : okey. the primary inventory is room obviously. the secondary inventory can be anything that is used in a hotel.    be it restaurants, and gift shops to such as toiletries, towels, blankets, and other items.    \n"
     ]
    }
   ],
   "source": [
    "from utils import REReplacer\n",
    "rep_word = REReplacer()\n",
    "# Replacement before text processing - One of the common practices while working with NLP is to clean up the text \n",
    "# before text processing. In this concern we use REReplacer class as a preliminary step before text processing \n",
    "# i.e. tokenization\n",
    "rawtext = rep_word.replace(rawtext)\n",
    "\n",
    "#from replacerRE import Rep_word_removal\n",
    "#rep_word = Rep_word_removal()\n",
    "#rep_word.replace(rawtext)\n",
    "rawtext = rawtext.lower()\n",
    "print(rawtext)"
   ]
  },
  {
   "cell_type": "code",
   "execution_count": 10,
   "metadata": {},
   "outputs": [
    {
     "name": "stdout",
     "output_type": "stream",
     "text": [
      "40 661 668 571 587\n"
     ]
    }
   ],
   "source": [
    "# Now get the tokens\n",
    "from nltk import word_tokenize, sent_tokenize\n",
    "from nltk.tokenize.punkt import PunktBaseClass, PunktTrainer, PunktSentenceTokenizer\n",
    "\n",
    "#Extract sentences and words\n",
    "pst = PunktSentenceTokenizer(rawtext) #train using our text\n",
    "sentences = pst.tokenize(rawtext)\n",
    "words = rawtext.split()\n",
    "\n",
    "# Use Standard Tokenizer word_tokenize() that is a wrapper on TreebankWordTokenizer\n",
    "tokenlist = word_tokenize(rawtext)\n",
    "# Use a better tokenizer - two alternative word tokenizers - PunktWordTokenizer and WordPunctTokenizer.\n",
    "# We will use WordPunktTokenizer Class\n",
    "from nltk.tokenize import WordPunctTokenizer\n",
    "tokenizer = WordPunctTokenizer()\n",
    "betterTokenlist = tokenizer.tokenize(rawtext)\n",
    "\n",
    "# Even better tokenizer - \n",
    "from nltk.tokenize import RegexpTokenizer\n",
    "tokenizer = RegexpTokenizer(\"[\\w']+\")\n",
    "evenBetterTokenlist = tokenizer.tokenize(rawtext)\n",
    "\n",
    "print(len(sentences), len(tokenlist), len(betterTokenlist), len(evenBetterTokenlist), len(words))"
   ]
  },
  {
   "cell_type": "code",
   "execution_count": 11,
   "metadata": {},
   "outputs": [
    {
     "name": "stdout",
     "output_type": "stream",
     "text": [
      "['the process should be similar for all : the prospective customers need to check for a property whether any rooms are available or not      for the given request.', 'ba : what do you mean by \"given request\"?', 'business : means the type of room, say for example two double bed room with pool view or a suite.', 'ba : okey.', 'please go ahead.']\n"
     ]
    }
   ],
   "source": [
    "print(sentences[5:10])"
   ]
  },
  {
   "cell_type": "code",
   "execution_count": 12,
   "metadata": {},
   "outputs": [
    {
     "name": "stdout",
     "output_type": "stream",
     "text": [
      "333\n"
     ]
    }
   ],
   "source": [
    "from nltk.corpus import stopwords\n",
    "#print(stopwords.words(\"english\"))\n",
    "# Remove stop words\n",
    "english_stops = set(stopwords.words('english'))\n",
    "words = [w for w in words if w not in english_stops]\n",
    "print(len(words))"
   ]
  },
  {
   "cell_type": "code",
   "execution_count": 15,
   "metadata": {},
   "outputs": [
    {
     "name": "stdout",
     "output_type": "stream",
     "text": [
      "['ba', ':', 'hi', ',', 'we', 'are', 'here', 'to', 'discuss', 'the', 'requirements', 'around', 'the', 'hotel', 'reservation', '.', 'business', ':', 'welcome', 'ajay']\n",
      "['ba', ':', 'hi', ',', 'we', 'are', 'here', 'to', 'discuss', 'the', 'requirements', 'around', 'the', 'hotel', 'reservation', '.', 'business', ':', 'welcome', 'ajay']\n",
      "['ba', 'hi', 'we', 'are', 'here', 'to', 'discuss', 'the', 'requirements', 'around', 'the', 'hotel', 'reservation', 'business', 'welcome', 'ajay', 'yes', 'we', 'can', 'start']\n"
     ]
    }
   ],
   "source": [
    "# Verify Tokens : we can specify the desired start and end range and then print tokenlist in console.\n",
    "selectedtokens = tokenlist[0:20]\n",
    "print (selectedtokens)\n",
    "selectedtokens = betterTokenlist[0:20]\n",
    "print (selectedtokens)\n",
    "selectedtokens = evenBetterTokenlist[0:20]\n",
    "print (selectedtokens)\n",
    "tokenlist=evenBetterTokenlist"
   ]
  },
  {
   "cell_type": "code",
   "execution_count": 16,
   "metadata": {},
   "outputs": [
    {
     "name": "stdout",
     "output_type": "stream",
     "text": [
      "<Text: ba hi we are here to discuss the...>\n"
     ]
    }
   ],
   "source": [
    "# Now we use NLTK text() method to convert the list of token to type text.\n",
    "textcontent = nltk.Text(tokenlist)\n",
    "print(textcontent)"
   ]
  },
  {
   "cell_type": "code",
   "execution_count": 37,
   "metadata": {},
   "outputs": [
    {
     "name": "stdout",
     "output_type": "stream",
     "text": [
      "Displaying 2 of 2 matches:\n",
      "ba hi we are here to discuss the requirements around the hotel reservation bus\n",
      "cussion ba so what are the broad requirements business we want to start modern\n",
      "\n",
      "No common contexts were found\n"
     ]
    },
    {
     "data": {
      "image/png": "[encoded data removed]",
      "text/plain": [
       "<Figure size 432x288 with 1 Axes>"
      ]
     },
     "metadata": {
      "needs_background": "light"
     },
     "output_type": "display_data"
    },
    {
     "data": {
      "image/png": "[encoded data removed]",
      "text/plain": [
       "<Figure size 432x288 with 1 Axes>"
      ]
     },
     "metadata": {
      "needs_background": "light"
     },
     "output_type": "display_data"
    },
    {
     "name": "stdout",
     "output_type": "stream",
     "text": [
      "Total Words: 571\n",
      "Unique words:  217\n",
      "Lexical Richness:  1.0\n",
      "Count of word:  11\n",
      "1.7513134851138354\n",
      "0.0\n",
      "Lexical Diversity:  0.38003502626970226\n",
      "% of age :  0.17513134851138354\n",
      "properties\n"
     ]
    },
    {
     "data": {
      "text/plain": [
       "198"
      ]
     },
     "execution_count": 37,
     "metadata": {},
     "output_type": "execute_result"
    }
   ],
   "source": [
    "#%% - Searching Text\n",
    "#Method1 : Examine the context of a text\n",
    "#A concordance permits us to see words in context. \n",
    "#The first time use of concordance on a particular text - \n",
    "#builds an index so that subsequent searches are fast.\n",
    "textcontent.concordance('requirements')\n",
    "\n",
    "#%% - Searching Text\n",
    "#Method 2: access a broader range of text\n",
    "#What other words appear in a similar range of contexts?\n",
    "textcontent.similar('discuss')\n",
    "\n",
    "#Observe that we get different results for different texts. \n",
    "#For Austen this word has positive connotations, \n",
    "#and sometimes functions as an intensifier like the word very.\n",
    "\n",
    "#%% - Searching Text\n",
    "#Method 3: common_contexts \n",
    "#allows us to examine just the contexts that are shared by \n",
    "#two or more words, such as monstrous and very. \n",
    "textcontent.common_contexts([\"rooms\", \"properties\"])\n",
    "\n",
    "#%% - Searching Text\n",
    "#Method 4: Determine the location of a word in the text\n",
    "#How many words from the beginning it appears. \n",
    "#This positional information can be displayed using a dispersion plot. \n",
    "#Each stripe represents an instance of a word, \n",
    "#and each row represents the entire text. \n",
    "#In the plot we see some striking patterns of word usage over the last 220 years\n",
    "#You might like to try more words (e.g., liberty, constitution), and different texts. \n",
    "textcontent.dispersion_plot([\"requirements\",\"rooms\", \"booking\"])\n",
    "textcontent.dispersion_plot([\"requirements\",\"rooms\"])\n",
    "\n",
    "#%% - Vocabulary\n",
    "#Counting Vocabulary - count the words in a text in a variety of ways. \n",
    "#The texts differ in the vocabulary they use. \n",
    "#Length of a text\n",
    "print('Total Words:',len(textcontent))\n",
    "\n",
    "#So the text has 571 words and punctuation symbols, or \"tokens.\" \n",
    "#A token is the technical name for a sequence of characters — such as hairy, his, or :) \n",
    "#When we count the number of tokens in a text, say, the phrase to be or not to be, \n",
    "#we are counting occurrences of these sequences. \n",
    "#Thus, in our example phrase there are two occurrences of to, two of be, and one each of or and not. \n",
    "#But there are only four distinct vocabulary items in this phrase. \n",
    "#So, how many distinct words does this text contain? \n",
    "#The vocabulary of a text is just the set of tokens that it uses,\n",
    "#since in a set, all duplicates are collapsed together. \n",
    "sortedtextContent=sorted(set(textcontent))\n",
    "print('Unique words: ',len(set(sortedtextContent)))\n",
    "unique_item_types=len(set(sortedtextContent))\n",
    "\n",
    "#So, although the text has 571 tokens, it has only 217 distinct words\n",
    "#we will generally call these unique items types instead of word types.\n",
    "\n",
    "#Lexical richness of a text: \n",
    "#each word is used 16 times on average\n",
    "print('Lexical Richness: ',float(len(set(sortedtextContent)))/len(sortedtextContent))\n",
    "\n",
    "#On particular words\n",
    "#Count how often a word occurs in a text, \n",
    "#Then compute what percentage of the text is taken up by a specific word\n",
    "print('Count of word: ',textcontent.count(\"room\"))\n",
    "print(100 * float(textcontent.count('booking'))/len(textcontent))\n",
    "print(100 * float(textcontent.count('requirement'))/len(textcontent))\n",
    "\n",
    "#%% - \n",
    "#We want to repeat such calculations on several texts\n",
    "#So we will have our own function 'lexical_diversity'\n",
    "#so that we can re-use it\n",
    "def lexical_diversity(text):\n",
    "    return float(len(set(text)))/len(text)\n",
    "def percentage(count, total):\n",
    "    return 100 * count/total\n",
    "\n",
    "lookupWord='age'\n",
    "print('Lexical Diversity: ',lexical_diversity(textcontent))\n",
    "print('% of '+lookupWord+\" : \",percentage(float(textcontent.count(lookupWord)),len(textcontent)))\n",
    "\n",
    "\n",
    "#%% - Indexing Lists\n",
    "#A text in Python is a list of words\n",
    "#represented using a combination of brackets and quotes\n",
    "#We can pick out the 1st, 173rd, or even 14,278th word in a printed text. \n",
    "#The number that represents this position is the item's index. \n",
    "#show us the item that occurs at an index 173 in a text\n",
    "print(textcontent[173])\n",
    "#Or the converse; given a word, find the index of when it first occurs:\n",
    "textcontent.index(lookupWord)"
   ]
  },
  {
   "cell_type": "code",
   "execution_count": 38,
   "metadata": {},
   "outputs": [
    {
     "name": "stdout",
     "output_type": "stream",
     "text": [
      "['ba', ':', 'hi,', 'discuss', 'requir', 'around', 'hotel', 'reservation.', 'busi', ':', 'welcom', 'ajay,', 'yes,', 'start', 'discussion.', 'ba', ':', 'so,', 'broad', 'requir', '?', 'busi', ':', 'want', 'start', 'modern', 'hotel', 'reservation.', 'custom', 'abl', 'use', 'follow', ':', 'telephon', 'base', 'booking,', 'web', 'base', 'book', 'in-person', 'booking.', 'process', 'similar', ':', 'prospect', 'custom', 'need', 'check', 'properti', 'whether', 'room', 'avail', 'given', 'request.', 'ba', ':', 'mean', '\"given', 'request\"?', 'busi', ':', 'mean', 'type', 'room,', 'say', 'exampl', 'two', 'doubl', 'bed', 'room', 'pool', 'view', 'suite.', 'ba', ':', 'okey.', 'pleas', 'go', 'ahead.', 'busi', ':', 'properti', 'capabl', 'fulfil', 'request,', 'custom', 'need', 'inform', 'room', 'rates,', 'room', 'services,etc.', 'ba', ':', 'room', 'given', 'request?', 'business:', 'room', 'avail', 'given', 'request,', 'guest', 'inform', 'properti', 'vicin', 'check', 'room', 'there.', 'room', 'rate', 'decid', 'custom', 'need', 'provid', 'person', 'detail', 'like', 'name,', 'age,', 'reason', 'stay,etc.', 'done', ',', 'initi', 'amount', 'charg', 'book', 'amount.', 'room', 'book', 'room', 'must', 'remov', 'inventory.', 'stay', 'leisur', ',the', 'book', 'clerk', '(telephon', 'otherwise)', 'may', 'brief', 'guest', 'activ', 'may', 'prefer.', 'ba', ':', 'stay', 'non-leisure?', 'business:', 'book', 'clerk', 'ask', 'whether', 'guest', 'need', 'addit', 'servic', 'extented,', 'exampl', 'use', 'confer', 'room.', 'etc', 'ba', ':', 'talk', 'room', 'amenities?', 'provid', 'examples?', 'busi', ':', 'sure,', 'mani', 'room', 'services.', 'provid', 'complet', 'list', 'later-on.', 'time', ',', 'exampl', 'room', 'amen', 'may', 'complimentari', 'use', 'gym,', 'in-room', 'cocktail', 'station', 'free', 'coupon', 'use', 'local', 'merchants.', 'obvious', 'charg', 'guest.', 'book', 'clerk', 'also', 'ask', 'whether', 'guest', 'need', 'avail', 'hotel', 'pickup', 'drop.', 'guest', 'use', 'travel', 'partner', 'come', 'location,', 'pickup', 'drop', 'complimentary.', 'depend', 'type', 'room', 'book', 'ticket', 'type', 'use', 'travel', 'partners,', 'provid', 'limo', 'service.', 'ba', ':', 'busi', 'partner', 'provide?', 'busi', ':', 'mani', 'type', 'busi', 'partner', 'say', 'exampl', 'abc', 'airway', 'airlin', 'partner.', 'guest', 'avail', 'first', 'class', 'busi', 'class', 'ticket,', 'provid', 'limo', 'airport', 'drop', '&', 'pickup', 'automatically.', 'guest', 'book', 'premium', 'suit', 'also', 'provid', 'free', 'limo', 'airport', 'drop', 'pickup.', 'book', 'clerk', 'also', 'enquir', 'special', 'servic', 'request.', 'exampl', ':', 'one', 'tour', 'parti', 'need', 'wheelchair,', 'etc', 'ohh...i', 'forgot', 'tell', 'properti', 'repres', 'also', 'ask', 'number', 'peopl', 'booking.', 'ba', ':', 'talk', 'remov', 'room', 'inventori', 'book', 'made.', 'talk', 'bit', 'that?', 'busi', ':', 'okey.', 'primari', 'inventori', 'room', 'obviously.', 'secondari', 'inventori', 'anyth', 'use', 'hotel.', 'restaurants,', 'gift', 'shop', 'toiletries,', 'towels,', 'blankets,', 'items.']\n"
     ]
    }
   ],
   "source": [
    "# Stemming: In our text we may find many words like playing, played, playfully, etc… which have a root word, \n",
    "# play all of these convey the same meaning. \n",
    "# So we can just extract the root word and remove the rest. \n",
    "# Here the root word formed is called ‘stem’ and it is not necessarily that stem needs to exist and have a meaning. \n",
    "#Just by committing the suffix and prefix, we generate the stems.\n",
    "\n",
    "#NLTK provides us with PorterStemmer LancasterStemmer and SnowballStemmer packages.\n",
    "from nltk.stem.porter import PorterStemmer\n",
    "# Reduce words to their stems\n",
    "#stemmed = [PorterStemmer().stem(w) for w in words]\n",
    "from nltk.stem.lancaster import LancasterStemmer\n",
    "#stemmed = [LancasterStemmer().stem(w) for w in words]\n",
    "from nltk.stem.snowball import SnowballStemmer\n",
    "stemmed = [SnowballStemmer('english').stem(w) for w in words]\n",
    "print(stemmed)"
   ]
  },
  {
   "cell_type": "code",
   "execution_count": 39,
   "metadata": {},
   "outputs": [
    {
     "name": "stdout",
     "output_type": "stream",
     "text": [
      "['ba', ':', 'hi,', 'discus', 'requirement', 'around', 'hotel', 'reservation.', 'business', ':', 'welcome', 'ajay,', 'yes,', 'start', 'discussion.', 'ba', ':', 'so,', 'broad', 'requirement', '?', 'business', ':', 'want', 'start', 'modernization', 'hotel', 'reservation.', 'customer', 'able', 'use', 'following', ':', 'telephone', 'based', 'booking,', 'web', 'based', 'booking', 'in-person', 'booking.', 'process', 'similar', ':', 'prospective', 'customer', 'need', 'check', 'property', 'whether', 'room', 'available', 'given', 'request.', 'ba', ':', 'mean', '\"given', 'request\"?', 'business', ':', 'mean', 'type', 'room,', 'say', 'example', 'two', 'double', 'bed', 'room', 'pool', 'view', 'suite.', 'ba', ':', 'okey.', 'please', 'go', 'ahead.', 'business', ':', 'property', 'capability', 'fulfilling', 'request,', 'customer', 'need', 'informed', 'room', 'rates,', 'room', 'services,etc.', 'ba', ':', 'room', 'given', 'request?', 'business:', 'room', 'available', 'given', 'request,', 'guest', 'informed', 'property', 'vicinity', 'check', 'room', 'there.', 'room', 'rate', 'decided', 'customer', 'need', 'provide', 'personal', 'detail', 'like', 'name,', 'age,', 'reason', 'stay,etc.', 'done', ',', 'initial', 'amount', 'charged', 'booking', 'amount.', 'room', 'booked', 'room', 'must', 'removed', 'inventory.', 'stay', 'leisure', ',the', 'booking', 'clerk', '(telephonic', 'otherwise)', 'may', 'brief', 'guest', 'activity', 'may', 'prefer.', 'ba', ':', 'stay', 'non-leisure?', 'business:', 'booking', 'clerk', 'ask', 'whether', 'guest', 'need', 'additional', 'service', 'extented,', 'example', 'use', 'conference', 'room.', 'etc', 'ba', ':', 'talked', 'room', 'amenities?', 'provide', 'examples?', 'business', ':', 'sure,', 'many', 'room', 'services.', 'provide', 'complete', 'list', 'later-on.', 'time', ',', 'example', 'room', 'amenity', 'may', 'complimentary', 'use', 'gym,', 'in-room', 'cocktail', 'station', 'free', 'coupon', 'used', 'local', 'merchants.', 'obviously', 'charged', 'guest.', 'booking', 'clerk', 'also', 'ask', 'whether', 'guest', 'need', 'avail', 'hotel', 'pickup', 'drop.', 'guest', 'using', 'travel', 'partner', 'come', 'location,', 'pickup', 'drop', 'complimentary.', 'depending', 'type', 'room', 'booked', 'ticket', 'type', 'used', 'travel', 'partners,', 'provide', 'limo', 'service.', 'ba', ':', 'business', 'partner', 'provide?', 'business', ':', 'many', 'type', 'business', 'partner', 'say', 'example', 'abc', 'airway', 'airline', 'partner.', 'guest', 'availed', 'first', 'class', 'business', 'class', 'ticket,', 'provided', 'limo', 'airport', 'drop', '&', 'pickup', 'automatically.', 'guest', 'booked', 'premium', 'suite', 'also', 'provided', 'free', 'limo', 'airport', 'drop', 'pickup.', 'booking', 'clerk', 'also', 'enquire', 'special', 'service', 'request.', 'example', ':', 'one', 'touring', 'party', 'need', 'wheelchair,', 'etc', 'ohh...i', 'forgot', 'tell', 'property', 'representative', 'also', 'ask', 'number', 'people', 'booking.', 'ba', ':', 'talked', 'removing', 'room', 'inventory', 'booking', 'made.', 'talk', 'bit', 'that?', 'business', ':', 'okey.', 'primary', 'inventory', 'room', 'obviously.', 'secondary', 'inventory', 'anything', 'used', 'hotel.', 'restaurants,', 'gift', 'shop', 'toiletries,', 'towels,', 'blankets,', 'items.']\n"
     ]
    }
   ],
   "source": [
    "# Lemmatization: We want to extract the base form of the word here. \n",
    "# The word extracted here is called Lemma and it is available in the dictionary. \n",
    "# We have the WordNet corpus and the lemma generated will be available in this corpus. \n",
    "# NLTK provides us with the WordNet Lemmatizer that makes use of the WordNet Database to lookup lemmas of words.\n",
    "from nltk.stem.wordnet import WordNetLemmatizer\n",
    "# Reduce words to their root form\n",
    "lemmed = [WordNetLemmatizer().lemmatize(w) for w in words]\n",
    "print(lemmed)\n",
    "# Note : Stemming is much faster than lemmatization as \n",
    "# it doesn’t need to lookup in the dictionary and just follows the algorithm to generate the root words."
   ]
  },
  {
   "cell_type": "code",
   "execution_count": null,
   "metadata": {},
   "outputs": [],
   "source": [
    "# Parse tree or Syntax Tree generation : We can define grammar and \n",
    "# then use NLTK RegexpParser to extract all parts of speech from the sentence and draw functions to visualize it.\n",
    "\n",
    "# Import required libraries\n",
    "#nltk.download('punkt')\n",
    "#nltk.download('averaged_perceptron_tagger')"
   ]
  },
  {
   "cell_type": "code",
   "execution_count": 40,
   "metadata": {},
   "outputs": [
    {
     "name": "stdout",
     "output_type": "stream",
     "text": [
      "[('ba', 'NN'), ('hi', 'NN'), ('we', 'PRP'), ('are', 'VBP'), ('here', 'RB'), ('to', 'TO'), ('discuss', 'VB'), ('the', 'DT'), ('requirements', 'NNS'), ('around', 'IN'), ('the', 'DT'), ('hotel', 'NN'), ('reservation', 'NN'), ('business', 'NN'), ('welcome', 'JJ'), ('ajay', 'JJ'), ('yes', 'IN'), ('we', 'PRP'), ('can', 'MD'), ('start', 'VB')]\n"
     ]
    }
   ],
   "source": [
    "# Step 1 : Tag Tokens - Find all parts of speech in above sentence\n",
    "tagged = nltk.pos_tag(tokenlist)\n",
    "print(tagged[0:20])"
   ]
  },
  {
   "cell_type": "code",
   "execution_count": 41,
   "metadata": {},
   "outputs": [
    {
     "name": "stdout",
     "output_type": "stream",
     "text": [
      "40 [[('ba', 'NN'), (':', ':'), ('hi', 'NN'), (',', ','), ('we', 'PRP'), ('are', 'VBP'), ('here', 'RB'), ('to', 'TO'), ('discuss', 'VB'), ('the', 'DT'), ('requirements', 'NNS'), ('around', 'IN'), ('the', 'DT'), ('hotel', 'NN'), ('reservation', 'NN'), ('.', '.')], [('business', 'NN'), (':', ':'), ('welcome', 'JJ'), ('ajay', 'NN'), (',', ','), ('yes', 'UH'), (',', ','), ('we', 'PRP'), ('can', 'MD'), ('start', 'VB'), ('the', 'DT'), ('discussion', 'NN'), ('.', '.')], [('ba', 'NN'), (':', ':'), ('so', 'RB'), (',', ','), ('what', 'WP'), ('are', 'VBP'), ('the', 'DT'), ('broad', 'JJ'), ('requirements', 'NNS'), ('?', '.')], [('business', 'NN'), (':', ':'), ('we', 'PRP'), ('want', 'VBP'), ('to', 'TO'), ('start', 'VB'), ('modernization', 'NN'), ('of', 'IN'), ('our', 'PRP$'), ('hotel', 'NN'), ('reservation', 'NN'), ('.', '.')], [('the', 'DT'), ('customer', 'NN'), ('should', 'MD'), ('be', 'VB'), ('able', 'JJ'), ('to', 'TO'), ('use', 'VB'), ('any', 'DT'), ('of', 'IN'), ('the', 'DT'), ('following', 'JJ'), (':', ':'), ('telephone', 'NN'), ('based', 'VBN'), ('booking', 'NN'), (',', ','), ('web', 'WP'), ('based', 'VBN'), ('booking', 'NN'), ('or', 'CC'), ('in-person', 'JJ'), ('booking', 'NN'), ('.', '.')], [('the', 'DT'), ('process', 'NN'), ('should', 'MD'), ('be', 'VB'), ('similar', 'JJ'), ('for', 'IN'), ('all', 'DT'), (':', ':'), ('the', 'DT'), ('prospective', 'JJ'), ('customers', 'NNS'), ('need', 'VBP'), ('to', 'TO'), ('check', 'VB'), ('for', 'IN'), ('a', 'DT'), ('property', 'NN'), ('whether', 'IN'), ('any', 'DT'), ('rooms', 'NNS'), ('are', 'VBP'), ('available', 'JJ'), ('or', 'CC'), ('not', 'RB'), ('for', 'IN'), ('the', 'DT'), ('given', 'VBN'), ('request', 'NN'), ('.', '.')], [('ba', 'NN'), (':', ':'), ('what', 'WP'), ('do', 'VBP'), ('you', 'PRP'), ('mean', 'VB'), ('by', 'IN'), ('``', '``'), ('given', 'VBN'), ('request', 'NN'), (\"''\", \"''\"), ('?', '.')], [('business', 'NN'), (':', ':'), ('means', 'VBZ'), ('the', 'DT'), ('type', 'NN'), ('of', 'IN'), ('room', 'NN'), (',', ','), ('say', 'VBP'), ('for', 'IN'), ('example', 'NN'), ('two', 'CD'), ('double', 'JJ'), ('bed', 'NN'), ('room', 'NN'), ('with', 'IN'), ('pool', 'JJ'), ('view', 'NN'), ('or', 'CC'), ('a', 'DT'), ('suite', 'NN'), ('.', '.')], [('ba', 'NN'), (':', ':'), ('okey', 'NN'), ('.', '.')], [('please', 'NN'), ('go', 'VB'), ('ahead', 'RB'), ('.', '.')], [('business', 'NN'), (':', ':'), ('if', 'IN'), ('the', 'DT'), ('property', 'NN'), ('has', 'VBZ'), ('capability', 'NN'), ('of', 'IN'), ('fulfilling', 'VBG'), ('that', 'DT'), ('request', 'NN'), (',', ','), ('then', 'RB'), ('the', 'DT'), ('customer', 'NN'), ('needs', 'VBZ'), ('to', 'TO'), ('be', 'VB'), ('informed', 'VBN'), ('about', 'IN'), ('the', 'DT'), ('rooms', 'NNS'), ('rates', 'NNS'), (',', ','), ('other', 'JJ'), ('room', 'NN'), ('services', 'NNS'), (',', ','), ('etc', 'FW'), ('.', '.')], [('ba', 'NN'), (':', ':'), ('if', 'IN'), ('there', 'EX'), ('are', 'VBP'), ('no', 'DT'), ('rooms', 'NNS'), ('for', 'IN'), ('the', 'DT'), ('given', 'VBN'), ('request', 'NN'), ('?', '.')], [('business', 'NN'), (':', ':'), ('if', 'IN'), ('there', 'EX'), ('are', 'VBP'), ('no', 'DT'), ('rooms', 'NNS'), ('available', 'JJ'), ('for', 'IN'), ('the', 'DT'), ('given', 'VBN'), ('request', 'NN'), (',', ','), ('then', 'RB'), ('the', 'DT'), ('guest', 'NN'), ('should', 'MD'), ('be', 'VB'), ('informed', 'VBN'), ('about', 'IN'), ('other', 'JJ'), ('properties', 'NNS'), ('in', 'IN'), ('the', 'DT'), ('vicinity', 'NN'), ('to', 'TO'), ('check', 'VB'), ('for', 'IN'), ('rooms', 'NNS'), ('there', 'RB'), ('.', '.')], [('once', 'RB'), ('the', 'DT'), ('rooms', 'NNS'), ('rates', 'NNS'), ('are', 'VBP'), ('decided', 'VBN'), ('then', 'RB'), ('the', 'DT'), ('customer', 'NN'), ('needs', 'VBZ'), ('to', 'TO'), ('provide', 'VB'), ('personal', 'JJ'), ('details', 'NNS'), ('like', 'IN'), ('name', 'NN'), (',', ','), ('age', 'NN'), (',', ','), ('reason', 'NN'), ('of', 'IN'), ('stay', 'NN'), (',', ','), ('etc', 'FW'), ('.', '.')], [('once', 'RB'), ('those', 'DT'), ('are', 'VBP'), ('done', 'VBN'), (',', ','), ('an', 'DT'), ('initial', 'JJ'), ('amount', 'NN'), ('can', 'MD'), ('charged', 'VB'), ('as', 'IN'), ('booking', 'VBG'), ('amount', 'NN'), ('.', '.')], [('after', 'IN'), ('the', 'DT'), ('rooms', 'NNS'), ('are', 'VBP'), ('booked', 'VBN'), ('the', 'DT'), ('rooms', 'NNS'), ('must', 'MD'), ('be', 'VB'), ('removed', 'VBN'), ('from', 'IN'), ('the', 'DT'), ('inventory', 'NN'), ('.', '.')], [('if', 'IN'), ('the', 'DT'), ('stay', 'NN'), ('is', 'VBZ'), ('leisure', 'JJ'), ('then', 'RB'), (',', ','), ('the', 'DT'), ('the', 'DT'), ('booking', 'NN'), ('clerk', 'NN'), ('(', '('), ('telephonic', 'JJ'), ('or', 'CC'), ('otherwise', 'RB'), (')', ')'), ('may', 'MD'), ('brief', 'VB'), ('the', 'DT'), ('guest', 'NN'), ('about', 'IN'), ('some', 'DT'), ('activities', 'NNS'), ('he', 'PRP'), ('may', 'MD'), ('prefer', 'VB'), ('.', '.')], [('ba', 'NN'), (':', ':'), ('but', 'CC'), ('if', 'IN'), ('the', 'DT'), ('stay', 'NN'), ('is', 'VBZ'), ('non-leisure', 'JJ'), ('?', '.')], [('business', 'NN'), (':', ':'), ('the', 'DT'), ('booking', 'VBG'), ('clerk', 'NN'), ('should', 'MD'), ('ask', 'VB'), ('whether', 'IN'), ('the', 'DT'), ('guest', 'JJS'), ('needs', 'VBZ'), ('any', 'DT'), ('additional', 'JJ'), ('services', 'NNS'), ('being', 'VBG'), ('extented', 'VBN'), (',', ','), ('for', 'IN'), ('example', 'NN'), ('use', 'NN'), ('of', 'IN'), ('conference', 'NN'), ('room', 'NN'), ('.', '.')], [('etc', 'JJ'), ('ba', 'NN'), (':', ':'), ('you', 'PRP'), ('talked', 'VBD'), ('about', 'IN'), ('room', 'NN'), ('amenities', 'NNS'), ('?', '.')], [('can', 'MD'), ('you', 'PRP'), ('provide', 'VB'), ('a', 'DT'), ('few', 'JJ'), ('examples', 'NNS'), ('?', '.')], [('business', 'NN'), (':', ':'), ('sure', 'NN'), (',', ','), ('there', 'EX'), ('are', 'VBP'), ('many', 'JJ'), ('room', 'NN'), ('services', 'NNS'), ('.', '.')], [('i', 'NN'), ('will', 'MD'), ('provide', 'VB'), ('a', 'DT'), ('complete', 'JJ'), ('list', 'NN'), ('later-on', 'NN'), ('.', '.')], [('but', 'CC'), ('for', 'IN'), ('the', 'DT'), ('time', 'NN'), ('being', 'VBG'), (',', ','), ('examples', 'NNS'), ('of', 'IN'), ('room', 'NN'), ('amenities', 'NNS'), ('may', 'MD'), ('be', 'VB'), ('complimentary', 'JJ'), ('use', 'NN'), ('of', 'IN'), ('gym', 'NN'), (',', ','), ('or', 'CC'), ('in-room', 'JJ'), ('cocktail', 'NN'), ('station', 'NN'), ('or', 'CC'), ('free', 'JJ'), ('coupons', 'NNS'), ('to', 'TO'), ('be', 'VB'), ('used', 'VBN'), ('at', 'IN'), ('local', 'JJ'), ('merchants', 'NNS'), ('.', '.')], [('some', 'DT'), ('of', 'IN'), ('these', 'DT'), ('are', 'VBP'), ('obviously', 'RB'), ('charged', 'VBN'), ('to', 'TO'), ('the', 'DT'), ('guest', 'NN'), ('.', '.')], [('the', 'DT'), ('booking', 'NN'), ('clerk', 'NN'), ('should', 'MD'), ('also', 'RB'), ('ask', 'VB'), ('whether', 'IN'), ('the', 'DT'), ('guest', 'NN'), ('needs', 'VBZ'), ('to', 'TO'), ('avail', 'VB'), ('hotel', 'NN'), ('pickup', 'NN'), ('or', 'CC'), ('drop', 'NN'), ('.', '.')], [('if', 'IN'), ('the', 'DT'), ('guest', 'NN'), ('is', 'VBZ'), ('using', 'VBG'), ('any', 'DT'), ('of', 'IN'), ('our', 'PRP$'), ('travel', 'NN'), ('partners', 'NNS'), ('to', 'TO'), ('come', 'VB'), ('to', 'TO'), ('our', 'PRP$'), ('location', 'NN'), (',', ','), ('the', 'DT'), ('pickup', 'NN'), ('and', 'CC'), ('drop', 'NN'), ('are', 'VBP'), ('complimentary', 'JJ'), ('.', '.')], [('and', 'CC'), ('depending', 'VBG'), ('on', 'IN'), ('the', 'DT'), ('type', 'NN'), ('of', 'IN'), ('room', 'NN'), ('booked', 'VBD'), ('or', 'CC'), ('ticket', 'NN'), ('type', 'NN'), ('used', 'VBN'), ('at', 'IN'), ('our', 'PRP$'), ('travel', 'NN'), ('partners', 'NNS'), (',', ','), ('we', 'PRP'), ('provide', 'VBP'), ('limo', 'JJ'), ('service', 'NN'), ('.', '.')], [('ba', 'NN'), (':', ':'), ('who', 'WP'), ('are', 'VBP'), ('these', 'DT'), ('business', 'NN'), ('partners', 'NNS'), ('and', 'CC'), ('what', 'WP'), ('do', 'VBP'), ('they', 'PRP'), ('provide', 'VB'), ('?', '.')], [('business', 'NN'), (':', ':'), ('there', 'EX'), ('are', 'VBP'), ('many', 'JJ'), ('type', 'NN'), ('of', 'IN'), ('business', 'NN'), ('partners', 'NNS'), ('say', 'VBP'), ('for', 'IN'), ('example', 'NN'), ('abc', 'NN'), ('airways', 'VBZ'), ('is', 'VBZ'), ('our', 'PRP$'), ('airlines', 'JJ'), ('partner', 'NN'), ('.', '.')], [('if', 'IN'), ('the', 'DT'), ('guest', 'NN'), ('has', 'VBZ'), ('availed', 'VBN'), ('first', 'JJ'), ('class', 'NN'), ('or', 'CC'), ('business', 'NN'), ('class', 'NN'), ('ticket', 'NN'), (',', ','), ('then', 'RB'), ('he', 'PRP'), ('is', 'VBZ'), ('provided', 'VBN'), ('limo', 'JJ'), ('airport', 'NN'), ('drop', 'NN'), ('&', 'CC'), ('pickup', 'NN'), ('automatically', 'RB'), ('.', '.')], [('or', 'CC'), ('if', 'IN'), ('the', 'DT'), ('guest', 'NN'), ('has', 'VBZ'), ('booked', 'VBN'), ('premium', 'IN'), ('suite', 'NN'), ('then', 'RB'), ('also', 'RB'), ('he', 'PRP'), ('is', 'VBZ'), ('provided', 'VBN'), ('free', 'JJ'), ('limo', 'NN'), ('airport', 'NN'), ('drop', 'NN'), ('and', 'CC'), ('pickup', 'NN'), ('.', '.')], [('the', 'DT'), ('booking', 'NN'), ('clerk', 'NN'), ('should', 'MD'), ('also', 'RB'), ('enquire', 'VB'), ('about', 'IN'), ('any', 'DT'), ('special', 'JJ'), ('service', 'NN'), ('request', 'NN'), ('.', '.')], [('for', 'IN'), ('example', 'NN'), (':', ':'), ('if', 'IN'), ('any', 'DT'), ('one', 'CD'), ('in', 'IN'), ('the', 'DT'), ('touring', 'VBG'), ('party', 'NN'), ('needs', 'NNS'), ('wheelchair', 'NN'), (',', ','), ('etc', 'FW'), ('ohh', 'NN'), ('...', ':'), ('i', 'NN'), ('forgot', 'VBD'), ('to', 'TO'), ('tell', 'VB'), ('you', 'PRP'), ('the', 'DT'), ('property', 'NN'), ('representative', 'NN'), ('should', 'MD'), ('also', 'RB'), ('ask', 'VB'), ('about', 'IN'), ('the', 'DT'), ('number', 'NN'), ('of', 'IN'), ('people', 'NNS'), ('for', 'IN'), ('the', 'DT'), ('booking', 'NN'), ('.', '.')], [('ba', 'NN'), (':', ':'), ('you', 'PRP'), ('talked', 'VBD'), ('about', 'IN'), ('removing', 'VBG'), ('the', 'DT'), ('room', 'NN'), ('from', 'IN'), ('inventory', 'NN'), ('when', 'WRB'), ('there', 'EX'), ('is', 'VBZ'), ('a', 'DT'), ('booking', 'NN'), ('made', 'VBN'), ('.', '.')], [('can', 'MD'), ('we', 'PRP'), ('talk', 'VB'), ('a', 'DT'), ('bit', 'NN'), ('more', 'RBR'), ('on', 'IN'), ('that', 'DT'), ('?', '.')], [('business', 'NN'), (':', ':'), ('okey', 'NN'), ('.', '.')], [('the', 'DT'), ('primary', 'JJ'), ('inventory', 'NN'), ('is', 'VBZ'), ('room', 'NN'), ('obviously', 'RB'), ('.', '.')], [('the', 'DT'), ('secondary', 'JJ'), ('inventory', 'NN'), ('can', 'MD'), ('be', 'VB'), ('anything', 'NN'), ('that', 'WDT'), ('is', 'VBZ'), ('used', 'VBN'), ('in', 'IN'), ('a', 'DT'), ('hotel', 'NN'), ('.', '.')], [('be', 'VB'), ('it', 'PRP'), ('restaurants', 'VBZ'), (',', ','), ('and', 'CC'), ('gift', 'NN'), ('shops', 'NNS'), ('to', 'TO'), ('such', 'JJ'), ('as', 'IN'), ('toiletries', 'NNS'), (',', ','), ('towels', 'NNS'), (',', ','), ('blankets', 'NNS'), (',', ','), ('and', 'CC'), ('other', 'JJ'), ('items', 'NNS'), ('.', '.')]]\n"
     ]
    },
    {
     "data": {
      "text/plain": [
       "0.6608910891089109"
      ]
     },
     "execution_count": 41,
     "metadata": {},
     "output_type": "execute_result"
    }
   ],
   "source": [
    "def backoff_tagger(train_sentences, tagger_classes, backoff=None):\n",
    "    for cls in tagger_classes:\n",
    "        backoff = cls(train_sentences, backoff=backoff)\n",
    "    return backoff\n",
    "\n",
    "from nltk.tag import UnigramTagger\n",
    "from nltk.tag import BigramTagger\n",
    "from nltk.tag import TrigramTagger\n",
    "from nltk.tag import DefaultTagger\n",
    "from nltk.corpus import treebank\n",
    "train_sentences = treebank.tagged_sents()[:2500]\n",
    "tagged_sentences = []\n",
    "for sent in sentences:\n",
    "    tagged_sentences.append(nltk.pos_tag(nltk.word_tokenize(sent)))\n",
    "print(len(tagged_sentences), tagged_sentences)\n",
    "train_sentences = tagged_sentences[0:14]\n",
    "back_tagger = DefaultTagger('NN')\n",
    "#Uni_tagger = UnigramTagger(train_sentences, backoff = back_tagger)\n",
    "#Uni_tagger.evaluate(tagged_sentences)\n",
    "Combine_tagger = backoff_tagger(train_sentences, [UnigramTagger, BigramTagger, TrigramTagger], backoff = back_tagger)\n",
    "test_sentences = tagged_sentences[15:]\n",
    "Combine_tagger.evaluate(test_sentences)"
   ]
  },
  {
   "cell_type": "code",
   "execution_count": 33,
   "metadata": {},
   "outputs": [
    {
     "name": "stdout",
     "output_type": "stream",
     "text": [
      "[('etcba', 'NN'), (':', ':'), ('you', 'PRP'), ('talked', 'VBD'), ('about', 'IN'), ('room', 'NN'), ('amenities', 'NNS'), ('?', '.')]\n"
     ]
    }
   ],
   "source": [
    "sentence1 = tagged_sentences[5]\n",
    "print(sentence1)\n",
    "grammar = \"NP:{<DT>?<JJ>*<NN>}\" \n",
    "Reg_parser = nltk.RegexpParser(grammar)\n",
    "output = Reg_parser.parse(sentence1)\n",
    "output.draw()"
   ]
  },
  {
   "cell_type": "code",
   "execution_count": null,
   "metadata": {},
   "outputs": [],
   "source": [
    "grammar = \"NP:{<DT><NN.*><.*>*<NN.*>}}<VB.*>{\"\n",
    "chunker = nltk.RegexpParser(grammar)#r'''NP:{<DT><NN.*><.*>*<NN.*>}}<VB.*>{''')\n",
    "output = chunker.parse(sentence1)\n",
    "output.draw()"
   ]
  },
  {
   "cell_type": "code",
   "execution_count": null,
   "metadata": {},
   "outputs": [],
   "source": [
    "# Step 2: Identify named entities\n",
    "entities = nltk.chunk.ne_chunk(tagged)\n",
    "print (entities)\n",
    "entities.draw()"
   ]
  },
  {
   "cell_type": "code",
   "execution_count": 54,
   "metadata": {},
   "outputs": [
    {
     "name": "stdout",
     "output_type": "stream",
     "text": [
      "(S\n",
      "  etcba/NN\n",
      "  :/:\n",
      "  you/PRP\n",
      "  talked/VBD\n",
      "  about/IN\n",
      "  room/NN\n",
      "  amenities/NNS\n",
      "  ?/.)\n"
     ]
    }
   ],
   "source": [
    "output = nltk.chunk.ne_chunk(sentence1)\n",
    "print (output)\n",
    "output.draw()"
   ]
  },
  {
   "cell_type": "code",
   "execution_count": 48,
   "metadata": {},
   "outputs": [
    {
     "name": "stderr",
     "output_type": "stream",
     "text": [
      "<ipython-input-48-515c50a0cdde>:4: DeprecationWarning: The StanfordDependencyParser will be deprecated\n",
      "Please use \u001b[91mnltk.parse.corenlp.CoreNLPDependencyParser\u001b[0m instead.\n",
      "  dep_parser = StanfordDependencyParser(\n"
     ]
    },
    {
     "name": "stdout",
     "output_type": "stream",
     "text": [
      "can we talk a bit more on that?business : okey.\n"
     ]
    },
    {
     "data": {
      "text/plain": [
       "[(('talk', 'VB'), 'aux', ('can', 'MD')),\n",
       " (('talk', 'VB'), 'nsubj', ('we', 'PRP')),\n",
       " (('talk', 'VB'), 'obj', ('more', 'JJR')),\n",
       " (('more', 'JJR'), 'dep', ('bit', 'NN')),\n",
       " (('bit', 'NN'), 'det', ('a', 'DT')),\n",
       " (('talk', 'VB'), 'obl', ('that?business', 'NNS')),\n",
       " (('that?business', 'NNS'), 'case', ('on', 'IN')),\n",
       " (('talk', 'VB'), 'advmod', ('okey', 'RB'))]"
      ]
     },
     "execution_count": 48,
     "metadata": {},
     "output_type": "execute_result"
    }
   ],
   "source": [
    "from nltk.parse.stanford import StanfordDependencyParser\n",
    "path_jar = 'E:/DevelopmentEnvironments/stanford-nlp/stanford-parser-4.2.0.zip'\n",
    "path_models_jar = 'E:/DevelopmentEnvironments/stanford-nlp/stanford-corenlp-4.2.0-models-english.jar'\n",
    "dep_parser = StanfordDependencyParser(\n",
    "   path_to_jar = path_jar, path_to_models_jar = path_models_jar\n",
    ")\n",
    "result = dep_parser.raw_parse(sentences[14])\n",
    "print(sentences[14])\n",
    "depndency = next(result)\n",
    "list(depndency.triples())"
   ]
  },
  {
   "cell_type": "code",
   "execution_count": 56,
   "metadata": {},
   "outputs": [
    {
     "name": "stdout",
     "output_type": "stream",
     "text": [
      "[ORG: 'WHYY'] 'in' [LOC: 'Philadelphia']\n",
      "[ORG: 'McGlashan &AMP; Sarrail'] 'firm in' [LOC: 'San Mateo']\n",
      "[ORG: 'Freedom Forum'] 'in' [LOC: 'Arlington']\n",
      "[ORG: 'Brookings Institution'] ', the research group in' [LOC: 'Washington']\n",
      "[ORG: 'Idealab'] ', a self-described business incubator based in' [LOC: 'Los Angeles']\n",
      "[ORG: 'Open Text'] ', based in' [LOC: 'Waterloo']\n",
      "[ORG: 'WGBH'] 'in' [LOC: 'Boston']\n",
      "[ORG: 'Bastille Opera'] 'in' [LOC: 'Paris']\n",
      "[ORG: 'Omnicom'] 'in' [LOC: 'New York']\n",
      "[ORG: 'DDB Needham'] 'in' [LOC: 'New York']\n",
      "[ORG: 'Kaplan Thaler Group'] 'in' [LOC: 'New York']\n",
      "[ORG: 'BBDO South'] 'in' [LOC: 'Atlanta']\n",
      "[ORG: 'Georgia-Pacific'] 'in' [LOC: 'Atlanta']\n"
     ]
    }
   ],
   "source": [
    "# Relation extraction - process of extracting the different relationships between various entities. \n",
    "# There can be different relationships like inheritance, synonyms, analogous, etc., \n",
    "# whose definition depends on the information need. \n",
    "# For example, suppose if we want to look for write of a book then the authorship would be a relation \n",
    "# between the author name and book name.\n",
    "\n",
    "# In the following example, we use the same IE pipeline, \n",
    "# as shown in the above diagram, that we used till Named-entity relation (NER) and \n",
    "# extend it with a relation pattern based on the NER tags.\n",
    "\n",
    "import re\n",
    "IN = re.compile(r'.*\\bin\\b(?!\\b.+ing)')\n",
    "for doc in nltk.corpus.ieer.parsed_docs('NYT_19980315'):\n",
    "    for rel in nltk.sem.extract_rels('ORG', 'LOC', doc, corpus = 'ieer', pattern = IN):\n",
    "        print(nltk.sem.rtuple(rel))"
   ]
  },
  {
   "cell_type": "code",
   "execution_count": 53,
   "metadata": {},
   "outputs": [],
   "source": [
    "# Filter words meeting some criteria: In the code below, words with length greater than 3 character is filtered\n",
    "filtered_tokens = [words for words in set(words) if len(words) > 3]"
   ]
  },
  {
   "cell_type": "code",
   "execution_count": 54,
   "metadata": {},
   "outputs": [
    {
     "data": {
      "image/png": "[encoded data removed]",
      "text/plain": [
       "<Figure size 432x288 with 1 Axes>"
      ]
     },
     "metadata": {
      "needs_background": "light"
     },
     "output_type": "display_data"
    },
    {
     "data": {
      "text/plain": [
       "<matplotlib.axes._subplots.AxesSubplot at 0x23422c80ac0>"
      ]
     },
     "execution_count": 54,
     "metadata": {},
     "output_type": "execute_result"
    }
   ],
   "source": [
    "from nltk.probability import FreqDist\n",
    "#\n",
    "# Frequency distribution\n",
    "#\n",
    "fdist = FreqDist(filtered_tokens)\n",
    "#\n",
    "# Plot the frequency distribution of 30 words with\n",
    "# cumulative = True\n",
    "#\n",
    "fdist.plot(30, cumulative=True)"
   ]
  },
  {
   "cell_type": "code",
   "execution_count": 55,
   "metadata": {},
   "outputs": [
    {
     "name": "stdout",
     "output_type": "stream",
     "text": [
      "[[1, 'ajay,'], [1, 'initial'], [1, 'inventory.if'], [1, 'room,'], [1, 'broad'], [1, 'booked'], [1, 'obviously'], [1, 'view'], [1, 'rates,'], [1, 'there'], [1, 'in-person'], [1, 'number'], [1, 'around'], [1, 'ticket,'], [1, 'vicinityto'], [1, 'talked'], [1, 'modernization'], [1, 'telephone'], [1, 'clerk'], [1, 'ahead.business'], [1, 'otherwise)'], [1, 'guest.the'], [1, 'conference'], [1, 'personal'], [1, 'amount'], [1, 'talk'], [1, 'partnersto'], [1, 'airport'], [1, 'capability'], [1, 'there.once'], [1, 'additional'], [1, 'want'], [1, 'customer'], [1, 'amenities'], [1, 'provide?business'], [1, 'etcba'], [1, 'removed'], [1, 'hotel.'], [1, 'partners,'], [1, 'used'], [1, 'merchants.'], [1, 'prospective'], [1, 'coupons'], [1, 'yes,'], [1, 'special'], [1, 'that?business'], [1, 'whether'], [1, 'in-room'], [1, 'means'], [1, 'they'], [1, 'avail'], [1, 'properties'], [1, 'here'], [1, 'obviously.'], [1, 'class'], [1, 'about'], [1, 'free'], [1, 'service'], [1, 'informed'], [1, 'anything'], [1, 'many'], [1, 'rates'], [1, 'depending'], [1, 'reason'], [1, 'when'], [1, 'enquire'], [1, 'forgot'], [1, 'based'], [1, 'later-on.'], [1, 'drop'], [1, 'services'], [1, 'partner.'], [1, 'amount.after'], [1, 'name,'], [1, 'blankets,'], [1, 'then'], [1, 'pickup'], [1, 'reservation.'], [1, 'mean'], [1, 'rooms'], [1, 'touring'], [1, 'complimentary.'], [1, 'representative'], [1, 'some'], [1, 'property'], [1, 'local'], [1, 'ticket'], [1, 'made.'], [1, 'process'], [1, 'age,'], [1, 'discuss'], [1, 'examples?business'], [1, 'automatically.or'], [1, 'first'], [1, 'double'], [1, 'gift'], [1, 'room.'], [1, 'hotel'], [1, 'wheelchair,'], [1, 'request\"?business'], [1, '(telephonic'], [1, 'these'], [1, 'guest'], [1, 'items.'], [1, 'type'], [1, 'etcohh...i'], [1, 'otherroom'], [1, 'check'], [1, 'party'], [1, 'primary'], [1, 'activities'], [1, 'should'], [1, 'booking.ba'], [1, 'stay,etc.once'], [1, 'travel'], [1, 'booking,'], [1, 'those'], [1, 'details'], [1, 'using'], [1, 'complimentary'], [1, 'limo'], [1, 'provided'], [1, 'drop.'], [1, 'amenities?'], [1, 'from'], [1, 'will'], [1, 'what'], [1, 'premium'], [1, 'prefer.ba'], [1, 'charged'], [1, '?business'], [1, 'airlines'], [1, 'welcome'], [1, 'able'], [1, 'pickup.the'], [1, 'booking'], [1, 'similar'], [1, 'request.'], [1, 'examples'], [1, 'come'], [1, 'also'], [1, 'need'], [1, 'partners'], [1, 'non-leisure?business:'], [1, 'tell'], [1, 'inventory'], [1, 'complete'], [1, 'cocktail'], [1, 'services,etc.ba'], [1, 'provide'], [1, 'gym,'], [1, 'ourtravel'], [1, 'orbusiness'], [1, 'example'], [1, 'time'], [1, 'extented,'], [1, 'leisure'], [1, 'suite'], [1, 'sure,'], [1, 'request?business:'], [1, 'airways'], [1, 'like'], [1, 'discussion.ba'], [1, 'business'], [1, 'start'], [1, 'such'], [1, 'restaurants,'], [1, 'pool'], [1, 'that'], [1, 'services.'], [1, 'removing'], [1, 'shops'], [1, 'people'], [1, 'stay'], [1, 'station'], [1, 'must'], [1, 'following'], [1, 'availed'], [1, 'available'], [1, 'done'], [1, 'customers'], [1, 'decided'], [1, 'list'], [1, 'given'], [1, '\"given'], [1, 'being'], [1, 'secondary'], [1, 'other'], [1, 'okey.'], [1, 'please'], [1, 'fulfilling'], [1, 'needs'], [1, 'requirements'], [1, 'request,'], [1, ',the'], [1, 'booking.'], [1, 'with'], [1, 'request.ba'], [1, 'brief'], [1, 'service.ba'], [1, 'location,'], [1, 'more'], [1, 'toiletries,'], [1, 'suite.ba'], [1, 'towels,'], [1, 'room']]\n"
     ]
    }
   ],
   "source": [
    "# Create Bar Plot for frequently occurring words\n",
    "# This is useful in visualising the top words (stresses on which objects are most) used in the text. \n",
    "# One of the areas where it can be very helpful is to come up with the objective of the text. \n",
    "import matplotlib.pyplot as plt\n",
    "from nltk.probability import FreqDist\n",
    "\n",
    "# Print words having 5 or more characters which occured for 5 or more times\n",
    "frequent_words = [[fdist[word], word] for word in set(filtered_tokens) if len(word) > 3 and fdist[word] >= 1]\n",
    "print (frequent_words)"
   ]
  },
  {
   "cell_type": "code",
   "execution_count": 56,
   "metadata": {},
   "outputs": [
    {
     "data": {
      "text/plain": [
       "Text(0, 0.5, 'Words Frequency')"
      ]
     },
     "execution_count": 56,
     "metadata": {},
     "output_type": "execute_result"
    },
    {
     "data": {
      "image/png": "[encoded data removed]",
      "text/plain": [
       "<Figure size 432x288 with 1 Axes>"
      ]
     },
     "metadata": {
      "needs_background": "light"
     },
     "output_type": "display_data"
    }
   ],
   "source": [
    "# Record the frequency count of\n",
    "sorted_word_frequencies = {}\n",
    "for item in sorted(frequent_words):\n",
    "    sorted_word_frequencies[item[1]] = item[0]\n",
    "\n",
    "# Create the plot\n",
    "plt.bar(range(len(sorted_word_frequencies)), list(sorted_word_frequencies.values()), align='center')\n",
    "plt.xticks(range(len(sorted_word_frequencies)), list(sorted_word_frequencies.keys()), rotation=80)\n",
    "plt.title(\"Words vs Count of Occurences\", fontsize=18)\n",
    "plt.xlabel(\"Words\", fontsize=18)\n",
    "plt.ylabel(\"Words Frequency\", fontsize=18)"
   ]
  },
  {
   "cell_type": "code",
   "execution_count": null,
   "metadata": {},
   "outputs": [],
   "source": []
  }
 ],
 "metadata": {
  "kernelspec": {
   "display_name": "Python 3",
   "language": "python",
   "name": "python3"
  },
  "language_info": {
   "codemirror_mode": {
    "name": "ipython",
    "version": 3
   },
   "file_extension": ".py",
   "mimetype": "text/x-python",
   "name": "python",
   "nbconvert_exporter": "python",
   "pygments_lexer": "ipython3",
   "version": "3.8.3"
  }
 },
 "nbformat": 4,
 "nbformat_minor": 4
}
