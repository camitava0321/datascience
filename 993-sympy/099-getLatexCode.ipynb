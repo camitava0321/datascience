{
 "cells": [
  {
   "cell_type": "code",
   "execution_count": 2,
   "metadata": {},
   "outputs": [
    {
     "name": "stdout",
     "output_type": "stream",
     "text": [
      "8 \\sqrt{2} \\tau^{\\frac{7}{2}}\n"
     ]
    }
   ],
   "source": [
    "from sympy import latex, Rational\n",
    "from sympy.abc import tau\n",
    "from sympy.physics.quantum import *\n",
    "from sympy import symbols, I\n",
    "\n",
    "\n",
    "print(latex((2*tau)**Rational(7,2)))\n"
   ]
  },
  {
   "cell_type": "code",
   "execution_count": 3,
   "metadata": {},
   "outputs": [
    {
     "name": "stdout",
     "output_type": "stream",
     "text": [
      "H\n",
      "{\\left\\langle \\psi\\right|}\n"
     ]
    }
   ],
   "source": [
    "b = Bra('psi')\n",
    "print(latex(b))"
   ]
  },
  {
   "cell_type": "code",
   "execution_count": null,
   "metadata": {},
   "outputs": [],
   "source": []
  }
 ],
 "metadata": {
  "kernelspec": {
   "display_name": "Python 3",
   "language": "python",
   "name": "python3"
  },
  "language_info": {
   "codemirror_mode": {
    "name": "ipython",
    "version": 3
   },
   "file_extension": ".py",
   "mimetype": "text/x-python",
   "name": "python",
   "nbconvert_exporter": "python",
   "pygments_lexer": "ipython3",
   "version": "3.8.3"
  }
 },
 "nbformat": 4,
 "nbformat_minor": 4
}
