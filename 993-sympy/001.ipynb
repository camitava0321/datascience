{
 "cells": [
  {
   "cell_type": "markdown",
   "metadata": {},
   "source": [
    "# SYMPY (SymPy)\n",
    "A Python library for symbolic mathematics or symbolic computation-a kind Computer Algebra System (CAS) where we can keep the code as simple as possible so that they are comprehensible, easily extensible. Symbolic computation refers to development of algorithms for manipulating mathematical expressions and other mathematical objects. Symbolic computation integrates mathematics with computer science to solve mathematical expressions using mathematical symbols. A Computer Algebra System (CAS) such as SymPy evaluates algebraic expressions exactly (not approximately) using the same symbols that are used in traditional manual method. \n",
    "\n",
    "* Live session - https://live.sympy.org/\n",
    "* Source code of SymPy package is available at https://github.com/sympy/sympy.\n",
    "\n",
    "SymPy has a wide range of features applicable in the field of basic symbolic arithmetic, calculus, algebra, discrete mathematics, quantum physics, etc -it is capable of formatting the results in different formats e.g., LaTeX, MathML, etc. \n",
    "\n",
    "Some of the mathematical subjects in SymPy are −\n",
    "*    Polynomials\n",
    "*    Calculus\n",
    "*    Discrete maths\n",
    "*    Matrices\n",
    "*    Geometry\n",
    "*    Plotting\n",
    "*    Physics\n",
    "*    Statistics\n",
    "*    Combinatorics\n",
    "\n",
    "SymPy has one important prerequisite library named mpmath. It is a Python library for real and complex floating-point arithmetic with arbitrary precision. Python's package installer PIP installs it automatically when SymPy is installed.\n",
    "\n",
    "For example, we calculate square root of a number using Python's math module as given below −"
   ]
  },
  {
   "cell_type": "code",
   "execution_count": 2,
   "metadata": {},
   "outputs": [
    {
     "name": "stdout",
     "output_type": "stream",
     "text": [
      "5.0 2.6457513110645907\n"
     ]
    }
   ],
   "source": [
    "import math \n",
    "print (math.sqrt(25), math.sqrt(7))"
   ]
  },
  {
   "cell_type": "markdown",
   "metadata": {},
   "source": [
    "We see that square root of 7 is calculated approximately. \n",
    "But in SymPy square roots of numbers that are not perfect squares are left unevaluated by default"
   ]
  },
  {
   "cell_type": "code",
   "execution_count": 3,
   "metadata": {},
   "outputs": [
    {
     "name": "stdout",
     "output_type": "stream",
     "text": [
      "sqrt(7)\n"
     ]
    }
   ],
   "source": [
    "import sympy \n",
    "print (sympy.sqrt(7))"
   ]
  },
  {
   "cell_type": "markdown",
   "metadata": {},
   "source": [
    "It is possible to simplify and show result of expression symbolically. So with the following code"
   ]
  },
  {
   "cell_type": "code",
   "execution_count": 4,
   "metadata": {},
   "outputs": [
    {
     "name": "stdout",
     "output_type": "stream",
     "text": [
      "3.4641016151377544\n",
      "2*sqrt(3)\n"
     ]
    }
   ],
   "source": [
    "import math\n",
    "print (math.sqrt(12))\n",
    "print (sympy.sqrt(12))"
   ]
  },
  {
   "cell_type": "code",
   "execution_count": 5,
   "metadata": {},
   "outputs": [
    {
     "data": {
      "text/latex": [
       "$\\displaystyle \\int x^{x}\\, dx$"
      ],
      "text/plain": [
       "Integral(x**x, x)"
      ]
     },
     "execution_count": 5,
     "metadata": {},
     "output_type": "execute_result"
    }
   ],
   "source": [
    "#SymPy code, when run in Jupyter notebook, makes use of MathJax library to render mathematical symbols in LatEx form.\n",
    "from sympy import * \n",
    "x=Symbol ('x') \n",
    "expr = integrate(x**x, x) \n",
    "expr"
   ]
  },
  {
   "cell_type": "code",
   "execution_count": 6,
   "metadata": {},
   "outputs": [
    {
     "data": {
      "text/latex": [
       "$\\displaystyle \\sqrt{7}$"
      ],
      "text/plain": [
       "sqrt(7)"
      ]
     },
     "execution_count": 6,
     "metadata": {},
     "output_type": "execute_result"
    }
   ],
   "source": [
    "#The square root of a non-perfect square can be represented by Latex as follows using traditional symbol −\n",
    "x=7 \n",
    "sqrt(x)"
   ]
  },
  {
   "cell_type": "markdown",
   "metadata": {},
   "source": [
    "A symbolic computation system such as SymPy does all sorts of computations (such as derivatives, integrals, and limits, solve equations, work with matrices) symbolically. SymPy package has different modules that support plotting, printing (like LATEX), physics, statistics, combinatorics, number theory, geometry, logic, etc.\n",
    "\n",
    "The core module in SymPy package contains Number class which represents atomic numbers. This class has two subclasses: Float and Rational class. Rational class is further extended by Integer class.\n",
    "\n",
    "Float class represents a floating point number of arbitrary precision."
   ]
  },
  {
   "cell_type": "code",
   "execution_count": 7,
   "metadata": {},
   "outputs": [
    {
     "name": "stdout",
     "output_type": "stream",
     "text": [
      "6.32000000000000\n",
      "10.0000000000000\n",
      "133000.000000000\n",
      "1.3\n",
      "3/4\n",
      "3602879701896397/18014398509481984\n",
      "1/5\n",
      "73/20\n",
      "3/5\n",
      "numerator:3, denominator:5\n"
     ]
    }
   ],
   "source": [
    "#from sympy import Float \n",
    "print(Float(6.32))\n",
    "\n",
    "#SymPy can convert an integer or a string to float.\n",
    "print(Float(10))\n",
    "print(Float('1.33E5'))# scientific notation\n",
    "\n",
    "#While converting to float, it is also possible to specify number of digits for precision as given below −\n",
    "print(Float(1.33333,2))\n",
    "\n",
    "#A representation of a number (p/q) is represented as object of Rational class with q being a non-zero number.\n",
    "print(Rational(3/4))\n",
    "\n",
    "#If a floating point number is passed to Rational() constructor, it returns underlying value of its binary representation\n",
    "print(Rational(0.2))\n",
    "\n",
    "#For simpler representation, specify denominator limitation.\n",
    "print(Rational(0.2).limit_denominator(100))\n",
    "\n",
    "#When a string is passed to Rational() constructor, a rational number of arbitrary precision is returned.\n",
    "print(Rational(\"3.65\"))\n",
    "\n",
    "#Rational object can also be obtained if two number arguments are passed. Numerator and denominator parts are available as properties.\n",
    "a=Rational(3,5) \n",
    "print (a) \n",
    "print (\"numerator:{}, denominator:{}\".format(a.p, a.q))"
   ]
  },
  {
   "cell_type": "code",
   "execution_count": 8,
   "metadata": {},
   "outputs": [
    {
     "name": "stdout",
     "output_type": "stream",
     "text": [
      "10\n",
      "3\n",
      "0\n"
     ]
    }
   ],
   "source": [
    "#Integer class in SymPy represents an integer number of any size. The constructor can accept a Float or Rational number, but the fractional part is discarded\n",
    "print(Integer(10))\n",
    "print(Integer(3.4))\n",
    "print(Integer(2/7))"
   ]
  },
  {
   "cell_type": "code",
   "execution_count": 9,
   "metadata": {},
   "outputs": [
    {
     "name": "stdout",
     "output_type": "stream",
     "text": [
      "0\n",
      "1\n",
      "1/2\n",
      "nan\n",
      "oo\n",
      "oo\n",
      "I\n",
      "I\n",
      "-1\n"
     ]
    }
   ],
   "source": [
    "#SymPy has a RealNumber class that acts as alias for Float. SymPy also defines Zero and One as singleton classes accessible with S.Zero and S.One respectively as shown below −\n",
    "print(S.Zero)\n",
    "print(S.One)\n",
    "\n",
    "#Other predefined Singleton number objects are Half, NaN, Infinity and ImaginaryUnit\n",
    "#from sympy import S \n",
    "print (S.Half)\n",
    "print (S.NaN)\n",
    "\n",
    "#Infinity is available as oo symbol object or S.Infinity\n",
    "#from sympy import oo \n",
    "print(oo)\n",
    "print(S.Infinity)\n",
    "\n",
    "#ImaginaryUnit number can be imported as I symbol or accessed as S.ImaginaryUnit and represents square root of -1\n",
    "#from sympy import I \n",
    "print(I)\n",
    "print(S.ImaginaryUnit)\n",
    "\n",
    "#from sympy import sqrt \n",
    "i=sqrt(-1) \n",
    "print(i*i)"
   ]
  },
  {
   "cell_type": "markdown",
   "metadata": {},
   "source": [
    "Symbol is the most important class in symPy library. As mentioned earlier, symbolic computations are done with symbols. SymPy variables are objects of Symbols class.\n",
    "\n",
    "Symbol() function's argument is a string containing symbol which can be assigned to a variable."
   ]
  },
  {
   "cell_type": "code",
   "execution_count": 11,
   "metadata": {},
   "outputs": [
    {
     "name": "stdout",
     "output_type": "stream",
     "text": [
      "x**2 + y**2\n",
      "side**3\n",
      "{'C': C, 'O': O, 'Q': Q, 'N': N, 'I': I, 'E': E, 'S': S}\n",
      "{'beta': beta, 'zeta': zeta, 'gamma': gamma, 'pi': pi}\n",
      "(a0, a1, a2, a3, a4)\n",
      "(mark1, mark2, mark3)\n"
     ]
    }
   ],
   "source": [
    "#from sympy import Symbol \n",
    "x=Symbol('x') \n",
    "y=Symbol('y') \n",
    "expr=x**2+y**2 \n",
    "print(expr)\n",
    "\n",
    "#A symbol may be of more than one alphabets.\n",
    "s=Symbol('side') \n",
    "print(s**3)\n",
    "\n",
    "#SymPy also has a Symbols() function that can define multiple symbols at once. String contains names of variables separated by comma or space.\n",
    "#from sympy import symbols \n",
    "x,y,z=symbols(\"x,y,z\")\n",
    "\n",
    "#In SymPy's abc module, all Latin and Greek alphabets are defined as symbols. Hence, instead of instantiating Symbol object, this method is convenient.\n",
    "\n",
    "#from sympy.abc import x,y,z\n",
    "#However, the names C, O, S, I, N, E and Q are predefined symbols. Also, symbols with more than one alphabets are not defined in abc module, for which you should use Symbol object as above. The abc module defines special names that can detect definitions in default SymPy namespace. clash1 contains single letters and clash2 has multi letter clashing symbols\n",
    "from sympy.abc import _clash1, _clash2 \n",
    "print(_clash1)\n",
    "print(_clash2)\n",
    "\n",
    "#Indexed symbols can be defined using syntax similar to range() function. Ranges are indicated by a colon. Type of range is determined by the character to the right of the colon. If itr is a digit, all contiguous digits to the left are taken as the nonnegative starting value. All contiguous digits to the right are taken as 1 greater than the ending value.\n",
    "#from sympy import symbols \n",
    "print(symbols('a:5'))\n",
    "\n",
    "print(symbols('mark(1:4)'))"
   ]
  },
  {
   "cell_type": "code",
   "execution_count": null,
   "metadata": {},
   "outputs": [],
   "source": []
  }
 ],
 "metadata": {
  "kernelspec": {
   "display_name": "Python 3",
   "language": "python",
   "name": "python3"
  },
  "language_info": {
   "codemirror_mode": {
    "name": "ipython",
    "version": 3
   },
   "file_extension": ".py",
   "mimetype": "text/x-python",
   "name": "python",
   "nbconvert_exporter": "python",
   "pygments_lexer": "ipython3",
   "version": "3.8.3"
  }
 },
 "nbformat": 4,
 "nbformat_minor": 4
}
