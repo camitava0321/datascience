{
 "cells": [
  {
   "cell_type": "markdown",
   "metadata": {
    "pycharm": {
     "name": "#%% md\n"
    }
   },
   "source": [
    "![image](https://raw.githubusercontent.com/IBM/watson-machine-learning-samples/master/cloud/notebooks/headers/watsonx-Prompt_Lab-Notebook.png)\n",
    "# Use Watsonx to analyze car rental customer satisfaction and detect business area."
   ]
  },
  {
   "cell_type": "markdown",
   "metadata": {},
   "source": [
    "**Note:** Please note that for the watsonx challenge, please run these notebooks locally on your laptop/desktop and do not run it in IBM Cloud.  The instructions for running the notebook locally are provided in the readme.md file present in the zip file."
   ]
  },
  {
   "cell_type": "markdown",
   "metadata": {
    "pycharm": {
     "name": "#%% md\n"
    }
   },
   "source": [
    "This notebook contains the steps and code to demonstrate support of text sentiment analysis in Watsonx. It introduces commands for data retrieval, model testing and scoring.\n",
    "\n",
    "Some familiarity with Python is helpful. This notebook uses Python 3.10."
   ]
  },
  {
   "cell_type": "markdown",
   "metadata": {
    "pycharm": {
     "name": "#%% md\n"
    }
   },
   "source": [
    "<a id=\"setup\"></a>\n",
    "## Set up the environment"
   ]
  },
  {
   "cell_type": "markdown",
   "metadata": {
    "pycharm": {
     "name": "#%% md\n"
    }
   },
   "source": [
    "### Install and import the dependecies"
   ]
  },
  {
   "cell_type": "code",
   "execution_count": 1,
   "metadata": {
    "pycharm": {
     "name": "#%%\n"
    }
   },
   "outputs": [
    {
     "name": "stdout",
     "output_type": "stream",
     "text": [
      "Requirement already satisfied: six>=1.5 in ./.conda/lib/python3.10/site-packages (from python-dateutil>=2.8.1->pandas->datasets) (1.16.0)\n",
      "Requirement already satisfied: threadpoolctl>=2.0.0 in ./.conda/lib/python3.10/site-packages (from scikit-learn) (3.2.0)\n",
      "Requirement already satisfied: six>=1.10.0 in ./.conda/lib/python3.10/site-packages (from lomond->ibm-watson-machine-learning==1.0.312) (1.16.0)\n"
     ]
    }
   ],
   "source": [
    "!pip install datasets | tail -n 1\n",
    "!pip install scikit-learn | tail -n 1\n",
    "!pip install ibm-watson-machine-learning==1.0.312 | tail -n 1"
   ]
  },
  {
   "cell_type": "markdown",
   "metadata": {},
   "source": [
    "**Note:** Please restart the notebook kernel to pick up proper version of packages installed above."
   ]
  },
  {
   "cell_type": "code",
   "execution_count": 2,
   "metadata": {
    "pycharm": {
     "name": "#%%\n"
    }
   },
   "outputs": [],
   "source": [
    "import os, getpass\n",
    "from pandas import read_csv"
   ]
  },
  {
   "cell_type": "markdown",
   "metadata": {
    "pycharm": {
     "name": "#%% md\n"
    }
   },
   "source": [
    "### Watsonx API connection\n",
    "This cell defines the credentials required to work with watsonx API for Foundation\n",
    "Model inferencing.\n",
    "\n",
    "**Action:** Provide the IBM Cloud user API key. For details, see\n",
    "[documentation](https://cloud.ibm.com/docs/account?topic=account-userapikey&interface=ui)."
   ]
  },
  {
   "cell_type": "code",
   "execution_count": 3,
   "metadata": {
    "pycharm": {
     "name": "#%%\n"
    }
   },
   "outputs": [],
   "source": [
    "credentials = {\n",
    "    \"url\": \"https://us-south.ml.cloud.ibm.com\",\n",
    "    \"apikey\": getpass.getpass(\"Please enter your WML api key (hit enter): \")\n",
    "}"
   ]
  },
  {
   "cell_type": "markdown",
   "metadata": {
    "pycharm": {
     "name": "#%% md\n"
    }
   },
   "source": [
    "### Defining the project id\n",
    "The API requires project id that provides the context for the call. We will obtain the id from the project in which this notebook runs. Otherwise, please provide the project id.\n",
    "\n",
    "**Hint**: You can find the `project_id` as follows. Open the prompt lab in watsonx.ai. At the very top of the UI, there will be `Projects / <project name> /`. Click on the `<project name>` link. Then get the `project_id` from Project's Manage tab (Project -> Manage -> General -> Details).\n"
   ]
  },
  {
   "cell_type": "code",
   "execution_count": 4,
   "metadata": {
    "pycharm": {
     "name": "#%%\n"
    }
   },
   "outputs": [],
   "source": [
    "try:\n",
    "    project_id = os.environ[\"PROJECT_ID\"]\n",
    "except KeyError:\n",
    "    project_id = input(\"Please enter your project_id (hit enter): \")"
   ]
  },
  {
   "cell_type": "markdown",
   "metadata": {
    "pycharm": {
     "name": "#%% md\n"
    }
   },
   "source": [
    "<a id=\"data\"></a>\n",
    "## Train/test data loading"
   ]
  },
  {
   "cell_type": "markdown",
   "metadata": {
    "pycharm": {
     "name": "#%% md\n"
    }
   },
   "source": [
    "Load train and test datasets. At first, training dataset (`train_data`) should be used to work with the models to prepare and tune prompt. Then, test dataset (`test_data`) should be used to calculate the metrics score for selected model, defined prompts and parameters."
   ]
  },
  {
   "cell_type": "code",
   "execution_count": 5,
   "metadata": {
    "pycharm": {
     "name": "#%%\n"
    }
   },
   "outputs": [],
   "source": [
    "filename_test = 'data/Classification/Hard/test.csv'\n",
    "filename_train = 'data/Classification/Hard/train.csv'\n",
    "\n",
    "test_data = read_csv(filename_test)\n",
    "train_data = read_csv(filename_train)"
   ]
  },
  {
   "cell_type": "code",
   "execution_count": 6,
   "metadata": {},
   "outputs": [
    {
     "data": {
      "text/html": [
       "<div>\n",
       "<style scoped>\n",
       "    .dataframe tbody tr th:only-of-type {\n",
       "        vertical-align: middle;\n",
       "    }\n",
       "\n",
       "    .dataframe tbody tr th {\n",
       "        vertical-align: top;\n",
       "    }\n",
       "\n",
       "    .dataframe thead th {\n",
       "        text-align: right;\n",
       "    }\n",
       "</style>\n",
       "<table border=\"1\" class=\"dataframe\">\n",
       "  <thead>\n",
       "    <tr style=\"text-align: right;\">\n",
       "      <th></th>\n",
       "      <th>ID</th>\n",
       "      <th>Gender</th>\n",
       "      <th>Status</th>\n",
       "      <th>Children</th>\n",
       "      <th>Age</th>\n",
       "      <th>Customer_Status</th>\n",
       "      <th>Car_Owner</th>\n",
       "      <th>Customer_Service</th>\n",
       "      <th>Satisfaction</th>\n",
       "      <th>Business_Area</th>\n",
       "      <th>Action</th>\n",
       "    </tr>\n",
       "  </thead>\n",
       "  <tbody>\n",
       "    <tr>\n",
       "      <th>0</th>\n",
       "      <td>2944</td>\n",
       "      <td>Female</td>\n",
       "      <td>M</td>\n",
       "      <td>2</td>\n",
       "      <td>41.92</td>\n",
       "      <td>Active</td>\n",
       "      <td>No</td>\n",
       "      <td>Customer service was friendly and helpful.</td>\n",
       "      <td>1</td>\n",
       "      <td>Service: Knowledge</td>\n",
       "      <td>NaN</td>\n",
       "    </tr>\n",
       "    <tr>\n",
       "      <th>1</th>\n",
       "      <td>1119</td>\n",
       "      <td>Female</td>\n",
       "      <td>M</td>\n",
       "      <td>2</td>\n",
       "      <td>33.60</td>\n",
       "      <td>Active</td>\n",
       "      <td>Yes</td>\n",
       "      <td>Customer service was good at MSP airport and t...</td>\n",
       "      <td>1</td>\n",
       "      <td>Service: Knowledge</td>\n",
       "      <td>NaN</td>\n",
       "    </tr>\n",
       "    <tr>\n",
       "      <th>2</th>\n",
       "      <td>0</td>\n",
       "      <td>Male</td>\n",
       "      <td>M</td>\n",
       "      <td>0</td>\n",
       "      <td>51.00</td>\n",
       "      <td>Inactive</td>\n",
       "      <td>Yes</td>\n",
       "      <td>I do not  understand why I have to pay additio...</td>\n",
       "      <td>0</td>\n",
       "      <td>Product: Pricing and Billing</td>\n",
       "      <td>Premium features</td>\n",
       "    </tr>\n",
       "    <tr>\n",
       "      <th>3</th>\n",
       "      <td>1085</td>\n",
       "      <td>Female</td>\n",
       "      <td>S</td>\n",
       "      <td>2</td>\n",
       "      <td>42.00</td>\n",
       "      <td>Inactive</td>\n",
       "      <td>No</td>\n",
       "      <td>Based on the customer service personnel I enco...</td>\n",
       "      <td>0</td>\n",
       "      <td>Service: Attitude</td>\n",
       "      <td>On-demand pickup location</td>\n",
       "    </tr>\n",
       "    <tr>\n",
       "      <th>4</th>\n",
       "      <td>0</td>\n",
       "      <td>Female</td>\n",
       "      <td>M</td>\n",
       "      <td>2</td>\n",
       "      <td>44.10</td>\n",
       "      <td>Active</td>\n",
       "      <td>No</td>\n",
       "      <td>Provide more convenient car pickup from the ai...</td>\n",
       "      <td>0</td>\n",
       "      <td>Service: Orders/Contracts</td>\n",
       "      <td>On-demand pickup location</td>\n",
       "    </tr>\n",
       "  </tbody>\n",
       "</table>\n",
       "</div>"
      ],
      "text/plain": [
       "     ID  Gender Status  Children    Age Customer_Status Car_Owner  \\\n",
       "0  2944  Female      M         2  41.92          Active        No   \n",
       "1  1119  Female      M         2  33.60          Active       Yes   \n",
       "2     0    Male      M         0  51.00        Inactive       Yes   \n",
       "3  1085  Female      S         2  42.00        Inactive        No   \n",
       "4     0  Female      M         2  44.10          Active        No   \n",
       "\n",
       "                                    Customer_Service  Satisfaction  \\\n",
       "0         Customer service was friendly and helpful.             1   \n",
       "1  Customer service was good at MSP airport and t...             1   \n",
       "2  I do not  understand why I have to pay additio...             0   \n",
       "3  Based on the customer service personnel I enco...             0   \n",
       "4  Provide more convenient car pickup from the ai...             0   \n",
       "\n",
       "                  Business_Area                     Action  \n",
       "0            Service: Knowledge                        NaN  \n",
       "1            Service: Knowledge                        NaN  \n",
       "2  Product: Pricing and Billing           Premium features  \n",
       "3             Service: Attitude  On-demand pickup location  \n",
       "4     Service: Orders/Contracts  On-demand pickup location  "
      ]
     },
     "execution_count": 6,
     "metadata": {},
     "output_type": "execute_result"
    }
   ],
   "source": [
    "train_data.head()"
   ]
  },
  {
   "cell_type": "code",
   "execution_count": 7,
   "metadata": {
    "pycharm": {
     "name": "#%%\n"
    }
   },
   "outputs": [
    {
     "data": {
      "text/html": [
       "<div>\n",
       "<style scoped>\n",
       "    .dataframe tbody tr th:only-of-type {\n",
       "        vertical-align: middle;\n",
       "    }\n",
       "\n",
       "    .dataframe tbody tr th {\n",
       "        vertical-align: top;\n",
       "    }\n",
       "\n",
       "    .dataframe thead th {\n",
       "        text-align: right;\n",
       "    }\n",
       "</style>\n",
       "<table border=\"1\" class=\"dataframe\">\n",
       "  <thead>\n",
       "    <tr style=\"text-align: right;\">\n",
       "      <th></th>\n",
       "      <th>ID</th>\n",
       "      <th>Gender</th>\n",
       "      <th>Status</th>\n",
       "      <th>Children</th>\n",
       "      <th>Age</th>\n",
       "      <th>Customer_Status</th>\n",
       "      <th>Car_Owner</th>\n",
       "      <th>Customer_Service</th>\n",
       "      <th>Satisfaction</th>\n",
       "      <th>Business_Area</th>\n",
       "      <th>Action</th>\n",
       "    </tr>\n",
       "  </thead>\n",
       "  <tbody>\n",
       "    <tr>\n",
       "      <th>0</th>\n",
       "      <td>2771</td>\n",
       "      <td>Female</td>\n",
       "      <td>M</td>\n",
       "      <td>2</td>\n",
       "      <td>49.99</td>\n",
       "      <td>Inactive</td>\n",
       "      <td>No</td>\n",
       "      <td>last time I rented a car was at Manchester, NH...</td>\n",
       "      <td>0</td>\n",
       "      <td>Product: Functioning</td>\n",
       "      <td>On-demand pickup location</td>\n",
       "    </tr>\n",
       "    <tr>\n",
       "      <th>1</th>\n",
       "      <td>1133</td>\n",
       "      <td>Male</td>\n",
       "      <td>S</td>\n",
       "      <td>1</td>\n",
       "      <td>56.05</td>\n",
       "      <td>Inactive</td>\n",
       "      <td>No</td>\n",
       "      <td>Please lower the prices.</td>\n",
       "      <td>0</td>\n",
       "      <td>Product: Pricing and Billing</td>\n",
       "      <td>Free Upgrade</td>\n",
       "    </tr>\n",
       "    <tr>\n",
       "      <th>2</th>\n",
       "      <td>900</td>\n",
       "      <td>Female</td>\n",
       "      <td>M</td>\n",
       "      <td>1</td>\n",
       "      <td>64.64</td>\n",
       "      <td>Active</td>\n",
       "      <td>No</td>\n",
       "      <td>Excellent response dealing with child seat.</td>\n",
       "      <td>1</td>\n",
       "      <td>Service: Accessibility</td>\n",
       "      <td>NaN</td>\n",
       "    </tr>\n",
       "    <tr>\n",
       "      <th>3</th>\n",
       "      <td>3795</td>\n",
       "      <td>Male</td>\n",
       "      <td>M</td>\n",
       "      <td>0</td>\n",
       "      <td>46.51</td>\n",
       "      <td>Inactive</td>\n",
       "      <td>No</td>\n",
       "      <td>all went quite smoothly... it was Enterprise, ...</td>\n",
       "      <td>1</td>\n",
       "      <td>Service: Accessibility</td>\n",
       "      <td>NaN</td>\n",
       "    </tr>\n",
       "    <tr>\n",
       "      <th>4</th>\n",
       "      <td>3541</td>\n",
       "      <td>Male</td>\n",
       "      <td>S</td>\n",
       "      <td>1</td>\n",
       "      <td>17.01</td>\n",
       "      <td>Inactive</td>\n",
       "      <td>Yes</td>\n",
       "      <td>Slow, long lineup</td>\n",
       "      <td>0</td>\n",
       "      <td>Product: Functioning</td>\n",
       "      <td>On-demand pickup location</td>\n",
       "    </tr>\n",
       "  </tbody>\n",
       "</table>\n",
       "</div>"
      ],
      "text/plain": [
       "     ID  Gender Status  Children    Age Customer_Status Car_Owner  \\\n",
       "0  2771  Female      M         2  49.99        Inactive        No   \n",
       "1  1133    Male      S         1  56.05        Inactive        No   \n",
       "2   900  Female      M         1  64.64          Active        No   \n",
       "3  3795    Male      M         0  46.51        Inactive        No   \n",
       "4  3541    Male      S         1  17.01        Inactive       Yes   \n",
       "\n",
       "                                    Customer_Service  Satisfaction  \\\n",
       "0  last time I rented a car was at Manchester, NH...             0   \n",
       "1                           Please lower the prices.             0   \n",
       "2        Excellent response dealing with child seat.             1   \n",
       "3  all went quite smoothly... it was Enterprise, ...             1   \n",
       "4                                  Slow, long lineup             0   \n",
       "\n",
       "                  Business_Area                     Action  \n",
       "0          Product: Functioning  On-demand pickup location  \n",
       "1  Product: Pricing and Billing               Free Upgrade  \n",
       "2        Service: Accessibility                        NaN  \n",
       "3        Service: Accessibility                        NaN  \n",
       "4          Product: Functioning  On-demand pickup location  "
      ]
     },
     "execution_count": 7,
     "metadata": {},
     "output_type": "execute_result"
    }
   ],
   "source": [
    "test_data.head()"
   ]
  },
  {
   "cell_type": "markdown",
   "metadata": {
    "pycharm": {
     "name": "#%% md\n"
    }
   },
   "source": [
    "<a id=\"models\"></a>\n",
    "## Foundation Models on Watsonx"
   ]
  },
  {
   "cell_type": "markdown",
   "metadata": {
    "pycharm": {
     "name": "#%% md\n"
    }
   },
   "source": [
    "You need to specify `model_id` that will be used for inferencing."
   ]
  },
  {
   "cell_type": "markdown",
   "metadata": {
    "collapsed": false,
    "pycharm": {
     "name": "#%% md\n"
    }
   },
   "source": [
    "**Action**: Use `FLAN_UL2` model."
   ]
  },
  {
   "cell_type": "code",
   "execution_count": 8,
   "metadata": {},
   "outputs": [],
   "source": [
    "from ibm_watson_machine_learning.foundation_models.utils.enums import ModelTypes"
   ]
  },
  {
   "cell_type": "code",
   "execution_count": 9,
   "metadata": {
    "pycharm": {
     "name": "#%%\n"
    }
   },
   "outputs": [],
   "source": [
    "model_id = ModelTypes.FLAN_UL2"
   ]
  },
  {
   "cell_type": "markdown",
   "metadata": {
    "pycharm": {
     "name": "#%% md\n"
    }
   },
   "source": [
    "<a id=\"predict\"></a>\n",
    "## Evaluate the model, prompt and parameters"
   ]
  },
  {
   "cell_type": "markdown",
   "metadata": {},
   "source": [
    "### **1. Customer satisfaction**"
   ]
  },
  {
   "cell_type": "markdown",
   "metadata": {
    "pycharm": {
     "name": "#%% md\n"
    }
   },
   "source": [
    "Define instructions for the model to recognize if customer was satisfied or unsatisfied.\n",
    "\n",
    "**Note:** Please **start with using [watsonx.ai Prompt Lab](https://dataplatform.cloud.ibm.com/wx/home?context=wx)** to find better prompts that provides you the best result on a small subset training records (under `train_data` variable). Make sure to not run an inference of all of `train_data`, as it'll take a long time to get the results. To get a sample from `train_data`, you can use e.g.`train_data.head(n=10)` to get first 10 records, or `train_data.sample(n=10)` to get random 10 records. Only once you have identified the best performing prompt, update this notebook to use the prompt and compute the metrics on the test data.\n",
    "\n",
    "**Action:** Please edit the below cell and add your own prompt here. In the below prompt, we have the instruction (first sentence) and one example included in the prompt.  If you want to change the prompt or add your own examples or more examples, please change the below prompt accordingly."
   ]
  },
  {
   "cell_type": "code",
   "execution_count": 10,
   "metadata": {
    "collapsed": false,
    "pycharm": {
     "name": "#%%\n"
    }
   },
   "outputs": [],
   "source": [
    "satisfaction_instruction = \"\"\"\n",
    "   Was customer satisfied?\\n\n",
    "\n",
    "   comment: I have had a few recent rentals that have taken a very very long time, with no offer of apology.  In the most recent case, the agent subsequently offered me a car type on an upgrade coupon and then told me it was no longer available because it had just be\\n\n",
    "   satisfaction: 'unsatisfied'\\n\\n\n",
    "\"\"\""
   ]
  },
  {
   "cell_type": "markdown",
   "metadata": {
    "pycharm": {
     "name": "#%% md\n"
    }
   },
   "source": [
    "### Defining the model parameters\n",
    "We need to provide a set of model parameters that will influence the result:"
   ]
  },
  {
   "cell_type": "code",
   "execution_count": 11,
   "metadata": {
    "pycharm": {
     "name": "#%%\n"
    }
   },
   "outputs": [],
   "source": [
    "from ibm_watson_machine_learning.metanames import GenTextParamsMetaNames as GenParams\n",
    "\n",
    "parameters = {\n",
    "    GenParams.MAX_NEW_TOKENS: 10\n",
    "}"
   ]
  },
  {
   "cell_type": "markdown",
   "metadata": {
    "pycharm": {
     "name": "#%% md\n"
    }
   },
   "source": [
    "Initialize the `Model` class."
   ]
  },
  {
   "cell_type": "code",
   "execution_count": 12,
   "metadata": {
    "pycharm": {
     "name": "#%%\n"
    }
   },
   "outputs": [],
   "source": [
    "from ibm_watson_machine_learning.foundation_models import Model\n",
    "\n",
    "model = Model(\n",
    "    model_id=model_id,\n",
    "    params=parameters,\n",
    "    credentials=credentials,\n",
    "    project_id=project_id)"
   ]
  },
  {
   "cell_type": "markdown",
   "metadata": {
    "pycharm": {
     "name": "#%% md\n"
    }
   },
   "source": [
    "Analyze the customer satisfaction for inputs from the test set.\n",
    "\n",
    "**Note:** Execution of this cell could take several minutes."
   ]
  },
  {
   "cell_type": "code",
   "execution_count": 13,
   "metadata": {
    "pycharm": {
     "name": "#%%\n"
    }
   },
   "outputs": [],
   "source": [
    "results = []\n",
    "comments = list(test_data.Customer_Service)\n",
    "satisfaction = list(test_data.Satisfaction)\n",
    "\n",
    "for input_text in comments:\n",
    "    results.append(model.generate_text(prompt=\" \".join([satisfaction_instruction, input_text])))"
   ]
  },
  {
   "cell_type": "markdown",
   "metadata": {
    "collapsed": false,
    "pycharm": {
     "name": "#%% md\n"
    }
   },
   "source": [
    "### Calculate the F1 micro score"
   ]
  },
  {
   "cell_type": "code",
   "execution_count": 14,
   "metadata": {
    "collapsed": false,
    "pycharm": {
     "name": "#%%\n"
    }
   },
   "outputs": [
    {
     "name": "stdout",
     "output_type": "stream",
     "text": [
      "f1_micro_score 0.04\n"
     ]
    }
   ],
   "source": [
    "from sklearn.metrics import f1_score\n",
    "\n",
    "def encode_satisfaction(s):\n",
    "    return({'unsatisfied': 0, 'satisfied': 1}).get(s.lower(), 2)\n",
    "\n",
    "results = [encode_satisfaction(result) for result in results]\n",
    "\n",
    "print('f1_micro_score', f1_score(satisfaction, results, average='micro'))"
   ]
  },
  {
   "cell_type": "markdown",
   "metadata": {},
   "source": [
    "### **2. Business area**"
   ]
  },
  {
   "cell_type": "markdown",
   "metadata": {},
   "source": [
    "Define instructions for the model to detect business area in which the customer review is targeted.\n",
    "\n",
    "**Note:** Please **start with using [watsonx.ai Prompt Lab](https://dataplatform.cloud.ibm.com/wx/home?context=wx)** to find better prompts that provides you the best result on a small subset training records (under `train_data` variable). Make sure to not run an inference of all of `train_data`, as it'll take a long time to get the results. To get a sample from `train_data`, you can use e.g.`train_data.head(n=10)` to get first 10 records, or `train_data.sample(n=10)` to get random 10 records. Only once you have identified the best performing prompt, update this notebook to use the prompt and compute the metrics on the test data.\n",
    "\n",
    "**Action:** Please edit the below cell and add your own prompt here. In the below prompt, we have the instruction (first sentence) and one example included in the prompt.  If you want to change the prompt or add your own examples or more examples, please change the below prompt accordingly."
   ]
  },
  {
   "cell_type": "code",
   "execution_count": 15,
   "metadata": {},
   "outputs": [],
   "source": [
    "business_area_instruction = \"\"\"\n",
    "   Find the business area of the customer e-mail. Choose business area from the following list: 'Product: Availability/Variety/Size', 'Product: Functioning', 'Product: Information', 'Product: Pricing and Billing', 'Service: Accessibility', 'Service: Attitude', 'Service: Knowledge', 'Service: Orders/Contracts'.\\n\n",
    "\n",
    "   comment: I have had a few recent rentals that have taken a very very long time, with no offer of apology.  In the most recent case, the agent subsequently offered me a car type on an upgrade coupon and then told me it was no longer available because it had just be\\n\n",
    "   business area: 'Product: Availability/Variety/Size'\\n\\n\n",
    "\"\"\""
   ]
  },
  {
   "cell_type": "markdown",
   "metadata": {},
   "source": [
    "### Defining the model parameters\n",
    "We need to provide a set of model parameters that will influence the result:"
   ]
  },
  {
   "cell_type": "code",
   "execution_count": 16,
   "metadata": {},
   "outputs": [],
   "source": [
    "from ibm_watson_machine_learning.metanames import GenTextParamsMetaNames as GenParams\n",
    "\n",
    "parameters = {\n",
    "    GenParams.MAX_NEW_TOKENS: 15\n",
    "}"
   ]
  },
  {
   "cell_type": "markdown",
   "metadata": {},
   "source": [
    "Initialize the `Model` class."
   ]
  },
  {
   "cell_type": "code",
   "execution_count": 17,
   "metadata": {},
   "outputs": [],
   "source": [
    "from ibm_watson_machine_learning.foundation_models import Model\n",
    "\n",
    "model = Model(\n",
    "    model_id=model_id,\n",
    "    params=parameters,\n",
    "    credentials=credentials,\n",
    "    project_id=project_id)"
   ]
  },
  {
   "cell_type": "markdown",
   "metadata": {},
   "source": [
    "Analyze the recommended actions for inputs from the test set.\n",
    "\n",
    "**Note:** Execution of this cell could take several minutes."
   ]
  },
  {
   "cell_type": "code",
   "execution_count": 18,
   "metadata": {},
   "outputs": [],
   "source": [
    "results = []\n",
    "comments = list(test_data.Customer_Service)\n",
    "area = list(test_data.Business_Area)\n",
    "\n",
    "for input_text in comments:\n",
    "    results.append(model.generate_text(prompt=\" \".join([business_area_instruction, input_text])))"
   ]
  },
  {
   "cell_type": "markdown",
   "metadata": {},
   "source": [
    "### Calculate the F1 micro score"
   ]
  },
  {
   "cell_type": "code",
   "execution_count": 19,
   "metadata": {},
   "outputs": [
    {
     "name": "stdout",
     "output_type": "stream",
     "text": [
      "f1_micro_score 0.06\n"
     ]
    }
   ],
   "source": [
    "from sklearn.metrics import f1_score\n",
    "\n",
    "print('f1_micro_score', f1_score(area, results, average='micro'))"
   ]
  },
  {
   "cell_type": "markdown",
   "metadata": {
    "collapsed": false,
    "pycharm": {
     "name": "#%% md\n"
    }
   },
   "source": [
    "---"
   ]
  },
  {
   "cell_type": "markdown",
   "metadata": {
    "pycharm": {
     "name": "#%% md\n"
    }
   },
   "source": [
    "Copyright © 2023 IBM. This notebook and its source code are released under the terms of the MIT License."
   ]
  }
 ],
 "metadata": {
  "kernelspec": {
   "display_name": "Python 3 (ipykernel)",
   "language": "python",
   "name": "python3"
  },
  "language_info": {
   "codemirror_mode": {
    "name": "ipython",
    "version": 3
   },
   "file_extension": ".py",
   "mimetype": "text/x-python",
   "name": "python",
   "nbconvert_exporter": "python",
   "pygments_lexer": "ipython3",
   "version": "3.10.12"
  }
 },
 "nbformat": 4,
 "nbformat_minor": 4
}
